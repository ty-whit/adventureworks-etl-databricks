{
 "cells": [
  {
   "cell_type": "code",
   "execution_count": 0,
   "metadata": {
    "application/vnd.databricks.v1+cell": {
     "cellMetadata": {
      "byteLimit": 2048000,
      "rowLimit": 10000
     },
     "inputWidgets": {},
     "nuid": "868c46b6-d428-48ee-b883-e468f2a4675e",
     "showTitle": false,
     "tableResultSettingsMap": {},
     "title": ""
    }
   },
   "outputs": [],
   "source": [
    "CREATE TABLE adventureworks_datawarehouse.dim_currency as \n",
    "SELECT\n",
    "  row_number() over (ORDER BY CurrencyCode) as CurrencyKey,\n",
    "  CurrencyCode as CurrencyAlternateKey,\n",
    "  \"name\" AS CurrencyName\n",
    "FROM \n",
    "  adventureworks.sales_currency"
   ]
  },
  {
   "cell_type": "code",
   "execution_count": 0,
   "metadata": {
    "application/vnd.databricks.v1+cell": {
     "cellMetadata": {},
     "inputWidgets": {},
     "nuid": "93b4ee83-ebb9-4aed-a525-4334a2ca76f6",
     "showTitle": false,
     "tableResultSettingsMap": {},
     "title": ""
    }
   },
   "outputs": [],
   "source": [
    "-- dim_employee\n",
    "CREATE TEMPORARY TABLE dim_employee_silver AS \n",
    "SELECT DISTINCT\n",
    "  NULL AS employee_key,\n",
    "  NULL AS parent_employee_key,\n",
    "  e.NationalIDNumber AS employee_national_id_alternate_key,\n",
    "  NULL AS parent_employee_national_id_alternate_key,\n",
    "  NULL sales_territory_key, \n",
    "  p.FirstName AS first_name,\n",
    "  p.LastName AS last_name,\n",
    "  p.MiddleName AS middle_name,\n",
    "  p.NameStyle AS middle_name,\n",
    "  p.Title AS title,\n",
    "  e.HireDate, \n",
    "  e.BirthDate AS birth_date, \n",
    "  e.LoginID AS login_id,\n",
    "  ea.EmailAddress,\n",
    "  pp.PhoneNumber,\n",
    "  e.MaritalStatus AS marital_status,\n",
    "  -- AS emergency_contact_name,\n",
    "  -- AS emergency_contact_phone,\n",
    "  e.salariedFlag as salaried_flag,\n",
    "  LAST(eph.PayFrequency) OVER (PARTITION BY p.businessentityid ORDER BY eph.RateChangeDate) AS pay_frequency,\n",
    "  LAST(eph.Rate) OVER (PARTITION BY p.businessentityid ORDER BY eph.RateChangeDate) AS base_rate,\n",
    "  e.VacationHours AS vacation_hours, \n",
    "  e.SickLeaveHours AS sick_leave_hours,\n",
    "  e.CurrentFlag AS current_flag,\n",
    "  case\n",
    "    when p.PersonType = 'SP' then 1\n",
    "    when p.PersonType = 'EM' then 0\n",
    "  end AS sales_person_flag,\n",
    "  LAST(d.Name) OVER (PARTITION BY p.businessentityid ORDER BY edh.StartDate) AS department_name,\n",
    "  LAST(edh.StartDate) OVER (PARTITION BY p.businessentityid ORDER BY edh.StartDate) AS department_start_date,\n",
    "  LAST(edh.EndDate) OVER (PARTITION BY p.businessentityid ORDER BY edh.StartDate) AS department_start_date,\n",
    "  -- e AS status\n",
    "  -- AS employee_photo\n",
    "  1 as safe\n",
    "FROM \n",
    "  adventureworks.person.person AS p\n",
    "  JOIN adventureworks.person.emailaddress AS ea ON p.businessentityid = ea.businessentityid\n",
    "  JOIN adventureworks.person.personphone AS pp ON p.businessentityid = pp.businessentityid\n",
    "  JOIN adventureworks.humanresources.employee AS e ON p.businessentityid = e.EmployeeID\n",
    "  JOIN adventureworks.humanresources.employeepayhistory AS eph ON p.businessentityid = eph.businessentityid \n",
    "  JOIN adventureworks.humanresources.employeedepartmenthistory AS edh ON p.businessentityid = edh.businessentityid\n",
    "  JOIN adventureworks.humanresources.department AS d ON edh.DepartmentID = d.DepartmentID\n",
    "WHERE p.PersonType in ('EM', 'SP')\n",
    "ORDER BY employee_key\n",
    "limit 100;\n",
    "\n"
   ]
  }
 ],
 "metadata": {
  "application/vnd.databricks.v1+notebook": {
   "computePreferences": null,
   "dashboards": [],
   "environmentMetadata": {
    "base_environment": "",
    "environment_version": "2"
   },
   "inputWidgetPreferences": null,
   "language": "sql",
   "notebookMetadata": {
    "mostRecentlyExecutedCommandWithImplicitDF": {
     "commandId": -1,
     "dataframes": [
      "_sqldf"
     ]
    },
    "pythonIndentUnit": 4
   },
   "notebookName": "Create DataWarehouse",
   "widgets": {}
  },
  "language_info": {
   "name": "sql"
  }
 },
 "nbformat": 4,
 "nbformat_minor": 0
}
