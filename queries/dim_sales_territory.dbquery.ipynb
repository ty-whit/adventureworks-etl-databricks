{
 "cells": [
  {
   "cell_type": "code",
   "execution_count": 0,
   "metadata": {
    "application/vnd.databricks.v1+cell": {
     "cellMetadata": {
      "byteLimit": 10485760,
      "rowLimit": 1000
     },
     "inputWidgets": {},
     "nuid": "29c32395-707e-4c68-a34e-19196576b3cc",
     "showTitle": false,
     "tableResultSettingsMap": {},
     "title": ""
    }
   },
   "outputs": [],
   "source": [
    "-- dim_sales_territory\n",
    "SELECT\n",
    "  -- NONE AS sales_territory_key,\n",
    "  -- NONE sales_territory_alternate_key,\n",
    "  st.Name AS sales_territory_region,\n",
    "  st.CountryRegionCode AS sales_territory_country,\n",
    "  st.Group AS sales_territory_group\n",
    "  -- NONE AS sales_territory_image\n",
    "FROM \n",
    "  adventureworks.sales.salesterritory AS st\n",
    "  JOIN adventureworks.person.countryregion AS cr ON cr.CountryRegionCode = st.CountryRegionCode"
   ]
  }
 ],
 "metadata": {
  "application/vnd.databricks.v1+notebook": {
   "computePreferences": null,
   "dashboards": [],
   "environmentMetadata": null,
   "inputWidgetPreferences": null,
   "language": "sql",
   "notebookMetadata": {
    "sqlQueryOptions": {
     "applyAutoLimit": true,
     "catalog": "adventureworks",
     "schema": "default"
    }
   },
   "notebookName": "dim_sales_territory.dbquery.ipynb",
   "widgets": {}
  },
  "language_info": {
   "name": "sql"
  }
 },
 "nbformat": 4,
 "nbformat_minor": 0
}
