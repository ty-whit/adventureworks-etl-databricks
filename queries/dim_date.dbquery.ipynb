{
 "cells": [
  {
   "cell_type": "code",
   "execution_count": 0,
   "metadata": {
    "application/vnd.databricks.v1+cell": {
     "cellMetadata": {
      "byteLimit": 10485760,
      "rowLimit": 1000
     },
     "inputWidgets": {},
     "nuid": "6b93deac-e877-4a37-9b25-1cc96923e83d",
     "showTitle": false,
     "tableResultSettingsMap": {},
     "title": ""
    }
   },
   "outputs": [],
   "source": [
    "SELECT\n",
    "  row_number() OVER (ORDER BY date) as date_key,\n",
    "  date AS full_date_alternate_key,\n",
    "  DAYOFWEEK(date) AS DayNumberOfWeek,\n",
    "  date_format(date, 'EEEE') AS EnglishDayNameOfWeek,\n",
    "  CASE DAYOFWEEK(date)\n",
    "    WHEN 1 THEN 'Domingo'\n",
    "    WHEN 2 THEN 'Lunes'\n",
    "    WHEN 3 THEN 'Martes'\n",
    "    WHEN 4 THEN 'Miércoles'\n",
    "    WHEN 5 THEN 'Jueves'\n",
    "    WHEN 6 THEN 'Viernes'\n",
    "    WHEN 7 THEN 'Sábado'\n",
    "  END AS SpanishDayNameOfWeek,\n",
    "  CASE DAYOFWEEK(date)\n",
    "    WHEN 1 THEN 'Dimanche'\n",
    "    WHEN 2 THEN 'Lundi'\n",
    "    WHEN 3 THEN 'Mardi'\n",
    "    WHEN 4 THEN 'Mercredi'\n",
    "    WHEN 5 THEN 'Jeudi'\n",
    "    WHEN 6 THEN 'Vendredi'\n",
    "    WHEN 7 THEN 'Samedi'\n",
    "  END AS FrenchDayNameOfWeek,\n",
    "  DAY(date) AS DayNumberOfMonth,\n",
    "  DAYOFYEAR(date) AS DayNumberOfYear,\n",
    "  WEEKOFYEAR(date) AS WeekNumberOfYear,\n",
    "  date_format(date, 'MMMM') AS EnglishMonthName,\n",
    "  CASE MONTH(date)\n",
    "    WHEN 1 THEN 'Enero'\n",
    "    WHEN 2 THEN 'Febrero'\n",
    "    WHEN 3 THEN 'Marzo'\n",
    "    WHEN 4 THEN 'Abril'\n",
    "    WHEN 5 THEN 'Mayo'\n",
    "    WHEN 6 THEN 'Junio'\n",
    "    WHEN 7 THEN 'Julio'\n",
    "    WHEN 8 THEN 'Agosto'\n",
    "    WHEN 9 THEN 'Septiembre'\n",
    "    WHEN 10 THEN 'Octubre'\n",
    "    WHEN 11 THEN 'Noviembre'\n",
    "    WHEN 12 THEN 'Diciembre'\n",
    "  END AS SpanishMonthName,\n",
    "  CASE MONTH(date)\n",
    "    WHEN 1 THEN 'Janvier'\n",
    "    WHEN 2 THEN 'Février'\n",
    "    WHEN 3 THEN 'Mars'\n",
    "    WHEN 4 THEN 'Avril'\n",
    "    WHEN 5 THEN 'Mai'\n",
    "    WHEN 6 THEN 'Juin'\n",
    "    WHEN 7 THEN 'Juillet'\n",
    "    WHEN 8 THEN 'Août'\n",
    "    WHEN 9 THEN 'Septembre'\n",
    "    WHEN 10 THEN 'Octobre'\n",
    "    WHEN 11 THEN 'Novembre'\n",
    "    WHEN 12 THEN 'Décembre'\n",
    "  END AS FrenchMonthName,\n",
    "  MONTH(date) AS MonthNumberOfYear,\n",
    "  QUARTER(date) AS CalendarQuarter,\n",
    "  YEAR(date) AS CalendarYear,\n",
    "  CASE WHEN MONTH(date) <= 6 THEN 1 ELSE 2 END AS CalendarSemester,\n",
    "  QUARTER(date) AS FiscalQuarter,\n",
    "  YEAR(date) AS FiscalYear,\n",
    "  CASE WHEN QUARTER(date) IN (1,2) THEN 1 ELSE 2 END AS FiscalSemester\n",
    "FROM (\n",
    "  SELECT sequence(to_date('2000-01-01'), to_date('2030-12-31'), interval 1 day) AS date_seq\n",
    ") AS seq\n",
    "LATERAL VIEW explode(date_seq) AS date"
   ]
  }
 ],
 "metadata": {
  "application/vnd.databricks.v1+notebook": {
   "computePreferences": null,
   "dashboards": [],
   "environmentMetadata": null,
   "inputWidgetPreferences": null,
   "language": "sql",
   "notebookMetadata": {
    "pythonIndentUnit": 4,
    "sqlQueryOptions": {
     "applyAutoLimit": true,
     "catalog": "adventureworks",
     "schema": "default"
    }
   },
   "notebookName": "dim_date.dbquery.ipynb",
   "widgets": {}
  },
  "language_info": {
   "name": "sql"
  }
 },
 "nbformat": 4,
 "nbformat_minor": 0
}
