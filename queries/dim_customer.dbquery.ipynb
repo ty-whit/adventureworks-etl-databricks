{
 "cells": [
  {
   "cell_type": "code",
   "execution_count": 0,
   "metadata": {
    "application/vnd.databricks.v1+cell": {
     "cellMetadata": {
      "byteLimit": 10485760,
      "rowLimit": 1000
     },
     "inputWidgets": {},
     "nuid": "b5060433-7182-42e3-afe8-c01222208881",
     "showTitle": false,
     "tableResultSettingsMap": {
      "0": {
       "dataGridStateBlob": "{\"version\":1,\"tableState\":{\"columnPinning\":{\"left\":[\"#row_number#\"],\"right\":[]},\"columnSizing\":{},\"columnVisibility\":{}},\"settings\":{\"columns\":{}},\"syncTimestamp\":1754939666579}",
       "filterBlob": null,
       "queryPlanFiltersBlob": null,
       "tableResultIndex": 0
      }
     },
     "title": ""
    }
   },
   "outputs": [],
   "source": [
    "-- dim_customer\n",
    "SELECT\n",
    "  -- row_number() OVER (ORDER BY LastName, FirstName),\n",
    "  p.Title, \n",
    "  p.FirstName,\n",
    "  p.MiddleName,\n",
    "  p.LastName,\n",
    "  p.NameStyle,\n",
    "  -- as Birth,\n",
    "  -- as MaritalStatus,\n",
    "  p.Suffix,\n",
    "  -- as Gender\n",
    "  ea.EmailAddress as EmailAddress,\n",
    "  -- totalChildren,\n",
    "  -- NumberChildrenAtHome,\n",
    "  -- EnglishEducation,\n",
    "  -- SpanishEducation,\n",
    "  -- FrenchEducation,\n",
    "  -- EnglishOccupation,\n",
    "  -- SpanishOccupation,\n",
    "  -- FrenchOccupation,\n",
    "  -- HouseOwnerFlag,\n",
    "  -- NumberCarsOwned,\n",
    "  -- AddressLine1,\n",
    "  -- AddressLine2, \n",
    "  pp.PhoneNumber as phone,\n",
    "  -- DateFirstPurchase,\n",
    "  concat( 0\n",
    "    -- CASE \n",
    "    --   WHEN \"column\" BETWEEN 0 AND 1 THEN '0-1'\n",
    "    --   WHEN \"column\" BETWEEN 1 AND 2 THEN '1-2'\n",
    "    --   WHEN \"column\" BETWEEN 2 AND 5 THEN '2-5'\n",
    "    --   WHEN \"column\" BETWEEN 5 AND 10 THEN '5-10'\n",
    "    --   ELSE '10+'\n",
    "    -- END,\n",
    "  --   \" Miles\"\n",
    "  ) AS CommuteDistance\n",
    "FROM \n",
    "  adventureworks.sales.customer AS c\n",
    "  JOIN adventureworks.person.person AS p on c.PersonID = p.BusinessEntityID\n",
    "  JOIN adventureworks.person.emailaddress AS ea ON p.BusinessEntityID = ea.BusinessEntityID\n",
    "  JOIN adventureworks.person.personphone AS pp ON p.BusinessEntityID = pp.BusinessEntityID\n",
    "  JOIN adventureworks.person.a\n",
    "-- ORDER BY\n",
    "  -- LastName, FirstName"
   ]
  }
 ],
 "metadata": {
  "application/vnd.databricks.v1+notebook": {
   "computePreferences": null,
   "dashboards": [],
   "environmentMetadata": null,
   "inputWidgetPreferences": null,
   "language": "sql",
   "notebookMetadata": {
    "pythonIndentUnit": 4,
    "sqlQueryOptions": {
     "applyAutoLimit": true,
     "catalog": "workspace",
     "schema": "default"
    }
   },
   "notebookName": "dim_customer.dbquery.ipynb",
   "widgets": {}
  },
  "language_info": {
   "name": "sql"
  }
 },
 "nbformat": 4,
 "nbformat_minor": 0
}
