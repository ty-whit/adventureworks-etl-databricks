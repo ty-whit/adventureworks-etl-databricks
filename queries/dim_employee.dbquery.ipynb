{
 "cells": [
  {
   "cell_type": "code",
   "execution_count": 0,
   "metadata": {
    "application/vnd.databricks.v1+cell": {
     "cellMetadata": {
      "byteLimit": 10485760,
      "rowLimit": 1000
     },
     "inputWidgets": {},
     "nuid": "cf559ef9-b707-425b-a677-2276c8bc57a7",
     "showTitle": false,
     "tableResultSettingsMap": {
      "0": {
       "dataGridStateBlob": "{\"version\":1,\"tableState\":{\"columnPinning\":{\"left\":[\"#row_number#\"],\"right\":[]},\"columnSizing\":{},\"columnVisibility\":{}},\"settings\":{\"columns\":{}},\"syncTimestamp\":1754365221066}",
       "filterBlob": null,
       "queryPlanFiltersBlob": null,
       "tableResultIndex": 0
      }
     },
     "title": ""
    }
   },
   "outputs": [],
   "source": [
    "-- dim_employee\n",
    "SELECT DISTINCT\n",
    "  NULL AS employee_key,\n",
    "  NULL AS parent_employee_key,\n",
    "  e.NationalIDNumber AS employee_national_id_alternate_key,\n",
    "  NULL AS parent_employee_national_id_alternate_key,\n",
    "  NULL sales_territory_key, \n",
    "  p.FirstName AS first_name,\n",
    "  p.LastName AS last_name,\n",
    "  p.MiddleName AS middle_name,\n",
    "  p.NameStyle AS middle_name,\n",
    "  p.Title AS title,\n",
    "  e.HireDate, \n",
    "  e.BirthDate AS birth_date, \n",
    "  e.LoginID AS login_id,\n",
    "  ea.EmailAddress,\n",
    "  pp.PhoneNumber,\n",
    "  e.MaritalStatus AS marital_status,\n",
    "  -- AS emergency_contact_name,\n",
    "  -- AS emergency_contact_phone,\n",
    "  e.salariedFlag as salaried_flag,\n",
    "  LAST(eph.PayFrequency) OVER (PARTITION BY p.businessentityid ORDER BY eph.RateChangeDate) AS pay_frequency,\n",
    "  LAST(eph.Rate) OVER (PARTITION BY p.businessentityid ORDER BY eph.RateChangeDate) AS base_rate,\n",
    "  e.VacationHours AS vacation_hours, \n",
    "  e.SickLeaveHours AS sick_leave_hours,\n",
    "  e.CurrentFlag AS current_flag,\n",
    "  case\n",
    "    when p.PersonType = 'SP' then 1\n",
    "    when p.PersonType = 'EM' then 0\n",
    "  end AS sales_person_flag,\n",
    "  LAST(d.Name) OVER (PARTITION BY p.businessentityid ORDER BY edh.StartDate) AS department_name,\n",
    "  LAST(edh.StartDate) OVER (PARTITION BY p.businessentityid ORDER BY edh.StartDate) AS department_start_date,\n",
    "  LAST(edh.EndDate) OVER (PARTITION BY p.businessentityid ORDER BY edh.StartDate) AS department_start_date,\n",
    "  -- e AS status\n",
    "  -- AS employee_photo\n",
    "  1 as safe\n",
    "FROM \n",
    "  adventureworks.person.person AS p\n",
    "  JOIN adventureworks.person.emailaddress AS ea ON p.businessentityid = ea.businessentityid\n",
    "  JOIN adventureworks.person.personphone AS pp ON p.businessentityid = pp.businessentityid\n",
    "  JOIN adventureworks.humanresources.employee AS e ON p.businessentityid = e.EmployeeID\n",
    "  JOIN adventureworks.humanresources.employeepayhistory AS eph ON p.businessentityid = eph.businessentityid \n",
    "  JOIN adventureworks.humanresources.employeedepartmenthistory AS edh ON p.businessentityid = edh.businessentityid\n",
    "  JOIN adventureworks.humanresources.department AS d ON edh.DepartmentID = d.DepartmentID\n",
    "WHERE p.PersonType in ('EM', 'SP')\n",
    "ORDER BY employee_key\n",
    "limit 100;\n",
    "\n"
   ]
  }
 ],
 "metadata": {
  "application/vnd.databricks.v1+notebook": {
   "computePreferences": null,
   "dashboards": [],
   "environmentMetadata": null,
   "inputWidgetPreferences": null,
   "language": "sql",
   "notebookMetadata": {
    "pythonIndentUnit": 4,
    "sqlQueryOptions": {
     "applyAutoLimit": true,
     "catalog": "adventureworksdatawarehouse",
     "schema": "default"
    }
   },
   "notebookName": "dim_employee.dbquery.ipynb",
   "widgets": {}
  },
  "language_info": {
   "name": "sql"
  }
 },
 "nbformat": 4,
 "nbformat_minor": 0
}
