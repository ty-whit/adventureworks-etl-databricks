{
 "cells": [
  {
   "cell_type": "code",
   "execution_count": 0,
   "metadata": {
    "application/vnd.databricks.v1+cell": {
     "cellMetadata": {
      "byteLimit": 10485760,
      "rowLimit": 1000
     },
     "inputWidgets": {},
     "nuid": "cf559ef9-b707-425b-a677-2276c8bc57a7",
     "showTitle": false,
     "tableResultSettingsMap": {
      "0": {
       "dataGridStateBlob": "{\"version\":1,\"tableState\":{\"columnPinning\":{\"left\":[\"#row_number#\"],\"right\":[]},\"columnSizing\":{},\"columnVisibility\":{}},\"settings\":{\"columns\":{}},\"syncTimestamp\":1754365221066}",
       "filterBlob": null,
       "queryPlanFiltersBlob": null,
       "tableResultIndex": 0
      }
     },
     "title": ""
    }
   },
   "outputs": [],
   "source": [
    "-- dim_employee\n",
    "SELECT DISTINCT\n",
    "  p.BusinessEntityID AS employee_key,\n",
    "  NULL parent_employee_key,\n",
    "  NULL employee_national_id_alternate_key,\n",
    "  NULL parent_employee_national_id_alternate_key,\n",
    "  NULL sales_territory_key, \n",
    "  p.FirstName AS first_name,\n",
    "  p.LastName AS last_name,\n",
    "  p.MiddleName AS middle_name,\n",
    "  p.NameStyle AS middle_name,\n",
    "  p.Title AS title,\n",
    "  FIRST(edh.StartDate) OVER (PARTITION BY p.BusinessEntityID ORDER BY edh.StartDate) AS hire_date, \n",
    "  -- AS birth_date, \n",
    "  -- AS login_id,\n",
    "  ea.EmailAddress,\n",
    "  pp.PhoneNumber,\n",
    "  -- AS marital_status,\n",
    "  -- AS emergency_contact_name,\n",
    "  -- AS emergency_contact_phone,\n",
    "  -- 1 as salaried_flag,\n",
    "  LAST(eph.PayFrequency) OVER (PARTITION BY p.businessentityid ORDER BY eph.RateChangeDate) AS pay_frequency,\n",
    "  LAST(eph.Rate) OVER (PARTITION BY p.businessentityid ORDER BY eph.RateChangeDate) AS base_rate,\n",
    "  -- AS vacation_hours, \n",
    "  -- AS sick_leave_hours,\n",
    "  -- AS current_flag,\n",
    "  -- AS sales_person_flag,\n",
    "  LAST(d.Name) OVER (PARTITION BY p.businessentityid ORDER BY edh.StartDate) AS department_name,\n",
    "  LAST(edh.StartDate) OVER (PARTITION BY p.businessentityid ORDER BY edh.StartDate) AS department_start_date,\n",
    "  LAST(edh.EndDate) OVER (PARTITION BY p.businessentityid ORDER BY edh.StartDate) AS department_start_date\n",
    "  -- AS status,\n",
    "  -- AS employee_photo\n",
    "FROM \n",
    "  adventureworks.person.person AS p\n",
    "  JOIN adventureworks.person.emailaddress AS ea ON p.businessentityid = ea.businessentityid\n",
    "  JOIN adventureworks.person.personphone AS pp ON p.businessentityid = pp.businessentityid\n",
    "  JOIN adventureworks.humanresources.employee AS e ON p.businessentityid = e.businessentityid\n",
    "  JOIN adventureworks.humanresources.employeepayhistory AS eph ON p.businessentityid = eph.businessentityid \n",
    "  JOIN adventureworks.humanresources.employeedepartmenthistory AS edh ON p.businessentityid = edh.businessentityid\n",
    "  JOIN adventureworks.humanresources.department AS d ON edh.DepartmentID = d.DepartmentID\n",
    "WHERE p.PersonType in ('EM', 'SP')\n",
    "ORDER BY employee_key\n",
    "limit 100;\n",
    "\n"
   ]
  }
 ],
 "metadata": {
  "application/vnd.databricks.v1+notebook": {
   "computePreferences": null,
   "dashboards": [],
   "environmentMetadata": null,
   "inputWidgetPreferences": null,
   "language": "sql",
   "notebookMetadata": {
    "pythonIndentUnit": 4,
    "sqlQueryOptions": {
     "applyAutoLimit": true,
     "catalog": "workspace",
     "schema": "default"
    }
   },
   "notebookName": "dim_employee.dbquery.ipynb",
   "widgets": {}
  },
  "language_info": {
   "name": "sql"
  }
 },
 "nbformat": 4,
 "nbformat_minor": 0
}
